{
 "cells": [
  {
   "cell_type": "code",
   "execution_count": 3,
   "metadata": {},
   "outputs": [],
   "source": [
    "class Empty(Exception):\n",
    "    \"\"\"Error attempting to access an element from an empty container.\"\"\"\n",
    "    pass\n",
    "\n",
    "class ArrayStack:\n",
    "    \"\"\"LIFO Stack implementation using a Python list as underlying storage.\"\"\"\n",
    "\n",
    "    def __init__(self):\n",
    "        \"\"\"Create an empty stack.\"\"\"\n",
    "        self.data = []\n",
    "\n",
    "    def __len__(self):\n",
    "        \"\"\"Return the number of elements in the stack.\"\"\"\n",
    "        return len(self.data)\n",
    "\n",
    "    def is_empty(self):\n",
    "        \"\"\"Return True if the stack is empty.\"\"\"\n",
    "        return len(self.data) == 0\n",
    "\n",
    "    def push(self, e):\n",
    "        \"\"\"Add element e to the top of the stack.\"\"\"\n",
    "        self.data.append(e)\n",
    "\n",
    "    def top(self):\n",
    "        \"\"\"Return (but do not remove) the element at the top of the stack.\n",
    "\n",
    "        Raise Empty exception if the stack is empty.\n",
    "        \"\"\"\n",
    "        if self.is_empty():\n",
    "            Exception(\"Stack is empty\")\n",
    "        else:\n",
    "            return self.data[-1]\n",
    "        \n",
    "    def pop(self):\n",
    "        \"\"\"Remove and return the element from the top of the stack (i.e., LIFO).\n",
    "\n",
    "        Raise Empty exception if the stack is empty.\n",
    "        \"\"\"\n",
    "        if self.is_empty():\n",
    "            Exception(\"Stack is empty\")\n",
    "        return self.data.pop()\n",
    "    \n",
    "def InfixtoPrefix(infix): # same as infix to postfix but reverse input and output and '(', ')' conditions\n",
    "    operand_stack, operator_stack = ArrayStack(), ArrayStack() \n",
    "    postfix = infix[-1::-1]\n",
    "    \n",
    "    for token in postfix:\n",
    "        if token == '(':\n",
    "            while operator_stack.top() != ')':\n",
    "                operator, operand2, operand1 = operator_stack.pop(), operand_stack.pop(), operand_stack.pop()\n",
    "                operand_stack.push(operand1+operand2+operator)\n",
    "            operator_stack.pop()\n",
    "        elif token == ')':\n",
    "            operator_stack.push(token)\n",
    "        elif token in \"+-*/^\":\n",
    "            # nothing in operator stack and (token lower or equal than top of the stack)\n",
    "            while (not(operator_stack.is_empty()) and ((token in \"+-\" and operator_stack.top() in \"+-*/^\") or token in \"*/\" and operator_stack.top() in \"*/^\")):\n",
    "                operator, operand2, operand1 = operator_stack.pop(), operand_stack.pop(), operand_stack.pop()\n",
    "                operand_stack.push(operand1+operand2+operator)\n",
    "            operator_stack.push(token)\n",
    "        else:\n",
    "            operand_stack.push(token)\n",
    "    \n",
    "    while not operator_stack.is_empty() and not operand_stack.is_empty():\n",
    "        operator, operand2, operand1 = operator_stack.pop(), operand_stack.pop(), operand_stack.pop()\n",
    "        operand_stack.push(operand1+operand2+operator)\n",
    "        \n",
    "    return operand_stack.pop()[-1::-1]\n",
    "    "
   ]
  },
  {
   "cell_type": "code",
   "execution_count": 4,
   "metadata": {},
   "outputs": [
    {
     "name": "stdout",
     "output_type": "stream",
     "text": [
      "Infix:   A+B\n",
      "Prefix: +AB\n",
      "Infix:   A+B*C\n",
      "Prefix: +A*BC\n",
      "Infix:   (A+B)*C\n",
      "Prefix: *+ABC\n"
     ]
    }
   ],
   "source": [
    "exp = \"A+B\"\n",
    "print('Infix:  ',exp)\n",
    "print('Prefix:',InfixtoPrefix(exp))\n",
    "exp = \"A+B*C\"\n",
    "print('Infix:  ',exp)\n",
    "print('Prefix:',InfixtoPrefix(exp))\n",
    "exp = \"(A+B)*C\"\n",
    "print('Infix:  ',exp)\n",
    "print('Prefix:',InfixtoPrefix(exp))"
   ]
  },
  {
   "cell_type": "markdown",
   "metadata": {},
   "source": [
    "Infix:   A+B\n",
    "Prefix: +AB\n",
    "Infix:   A+B*C\n",
    "Prefix: +A*BC\n",
    "Infix:   (A+B)*C\n",
    "Prefix: *+ABC"
   ]
  },
  {
   "cell_type": "code",
   "execution_count": 5,
   "metadata": {},
   "outputs": [
    {
     "name": "stdout",
     "output_type": "stream",
     "text": [
      "Infix:   A+B*C+D\n",
      "Prefix: +A+*BCD\n",
      "Infix:   (A+B)*(C+D)\n",
      "Prefix: *+AB+CD\n"
     ]
    }
   ],
   "source": [
    "exp = \"A+B*C+D\"\n",
    "print('Infix:  ',exp)\n",
    "print('Prefix:',InfixtoPrefix(exp))\n",
    "exp = \"(A+B)*(C+D)\"\n",
    "print('Infix:  ',exp)\n",
    "print('Prefix:',InfixtoPrefix(exp))"
   ]
  },
  {
   "cell_type": "markdown",
   "metadata": {},
   "source": [
    "Infix:   A+B*C+D\n",
    "Prefix: +A+*BCD\n",
    "Infix:   (A+B)*(C+D)\n",
    "Prefix: *+AB+CD"
   ]
  },
  {
   "cell_type": "code",
   "execution_count": 6,
   "metadata": {},
   "outputs": [
    {
     "name": "stdout",
     "output_type": "stream",
     "text": [
      "Infix:   (4*(5-(7+2)))\n",
      "Prefix: *4-5+72\n",
      "Infix:   (((3+4)*2)/7)\n",
      "Prefix: /*+3427\n"
     ]
    }
   ],
   "source": [
    "exp = \"(4*(5-(7+2)))\"\n",
    "print('Infix:  ',exp)\n",
    "print('Prefix:',InfixtoPrefix(exp))\n",
    "exp = \"(((3+4)*2)/7)\"\n",
    "print('Infix:  ',exp)\n",
    "print('Prefix:',InfixtoPrefix(exp))"
   ]
  },
  {
   "cell_type": "markdown",
   "metadata": {},
   "source": [
    "Infix:   (4*(5-(7+2)))\n",
    "Prefix: *4-5+72\n",
    "Infix:   (((3+4)*2)/7)\n",
    "Prefix: /*+3427"
   ]
  }
 ],
 "metadata": {
  "kernelspec": {
   "display_name": "Python 3",
   "language": "python",
   "name": "python3"
  },
  "language_info": {
   "codemirror_mode": {
    "name": "ipython",
    "version": 3
   },
   "file_extension": ".py",
   "mimetype": "text/x-python",
   "name": "python",
   "nbconvert_exporter": "python",
   "pygments_lexer": "ipython3",
   "version": "3.12.1"
  }
 },
 "nbformat": 4,
 "nbformat_minor": 2
}
