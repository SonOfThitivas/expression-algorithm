{
 "cells": [
  {
   "cell_type": "code",
   "execution_count": 9,
   "metadata": {},
   "outputs": [],
   "source": [
    "class Empty(Exception):\n",
    "    \"\"\"Error attempting to access an element from an empty container.\"\"\"\n",
    "    pass\n",
    "\n",
    "class ArrayStack:\n",
    "    \"\"\"LIFO Stack implementation using a Python list as underlying storage.\"\"\"\n",
    "\n",
    "    def __init__(self):\n",
    "        \"\"\"Create an empty stack.\"\"\"\n",
    "        self.data = []\n",
    "\n",
    "    def __len__(self):\n",
    "        \"\"\"Return the number of elements in the stack.\"\"\"\n",
    "        return len(self.data)\n",
    "\n",
    "    def is_empty(self):\n",
    "        \"\"\"Return True if the stack is empty.\"\"\"\n",
    "        return len(self.data) == 0\n",
    "\n",
    "    def push(self, e):\n",
    "        \"\"\"Add element e to the top of the stack.\"\"\"\n",
    "        self.data.append(e)\n",
    "\n",
    "    def top(self):\n",
    "        \"\"\"Return (but do not remove) the element at the top of the stack.\n",
    "\n",
    "        Raise Empty exception if the stack is empty.\n",
    "        \"\"\"\n",
    "        if self.is_empty():\n",
    "            Exception(\"Stack is empty\")\n",
    "        else:\n",
    "            return self.data[-1]\n",
    "        \n",
    "    def pop(self):\n",
    "        \"\"\"Remove and return the element from the top of the stack (i.e., LIFO).\n",
    "\n",
    "        Raise Empty exception if the stack is empty.\n",
    "        \"\"\"\n",
    "        if self.is_empty():\n",
    "            Exception(\"Stack is empty\")\n",
    "        return self.data.pop()\n",
    "    \n",
    "def evaluatePrefix(prefix):\n",
    "    S = ArrayStack()\n",
    "    operating_dict = {'+': lambda x,y: float(x) + float(y),\n",
    "                 '-': lambda x,y: float(x) - float(y),\n",
    "                 '*': lambda x,y: float(x) * float(y),\n",
    "                 '/': lambda x,y: float(x) / float(y),\n",
    "                 '^': lambda x,y: float(x) ** float(y),}\n",
    "    prefix = prefix[-1::-1]\n",
    "    for token in prefix:\n",
    "        if token not in \"+-*/^\": # operand\n",
    "            S.push(token)\n",
    "        else: # operator\n",
    "            operator = token\n",
    "            operand1, operand2, operating = S.pop(), S.pop(), operating_dict[operator]\n",
    "            S.push(operating(operand1, operand2))\n",
    "            \n",
    "    return S.pop()"
   ]
  },
  {
   "cell_type": "code",
   "execution_count": 10,
   "metadata": {},
   "outputs": [
    {
     "name": "stdout",
     "output_type": "stream",
     "text": [
      "*4-5+72 = -16.0\n",
      "/*+3427 = 2.0\n"
     ]
    }
   ],
   "source": [
    "exp = \"*4-5+72\"\n",
    "print(exp,'=',evaluatePrefix(exp))\n",
    "exp = \"/*+3427\"\n",
    "print(exp,'=',evaluatePrefix(exp))"
   ]
  },
  {
   "cell_type": "markdown",
   "metadata": {},
   "source": [
    "*4-5+72 = -16.0\n",
    "/*+3427 = 2.0"
   ]
  }
 ],
 "metadata": {
  "kernelspec": {
   "display_name": "Python 3",
   "language": "python",
   "name": "python3"
  },
  "language_info": {
   "codemirror_mode": {
    "name": "ipython",
    "version": 3
   },
   "file_extension": ".py",
   "mimetype": "text/x-python",
   "name": "python",
   "nbconvert_exporter": "python",
   "pygments_lexer": "ipython3",
   "version": "3.12.1"
  }
 },
 "nbformat": 4,
 "nbformat_minor": 2
}
