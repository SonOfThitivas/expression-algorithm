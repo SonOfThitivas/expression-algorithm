{
 "cells": [
  {
   "cell_type": "code",
   "execution_count": 21,
   "metadata": {},
   "outputs": [],
   "source": [
    "class Empty(Exception):\n",
    "    \"\"\"Error attempting to access an element from an empty container.\"\"\"\n",
    "    pass\n",
    "\n",
    "class ArrayStack:\n",
    "    \"\"\"LIFO Stack implementation using a Python list as underlying storage.\"\"\"\n",
    "\n",
    "    def __init__(self):\n",
    "        \"\"\"Create an empty stack.\"\"\"\n",
    "        self.data = []\n",
    "\n",
    "    def __len__(self):\n",
    "        \"\"\"Return the number of elements in the stack.\"\"\"\n",
    "        return len(self.data)\n",
    "\n",
    "    def is_empty(self):\n",
    "        \"\"\"Return True if the stack is empty.\"\"\"\n",
    "        return len(self.data) == 0\n",
    "\n",
    "    def push(self, e):\n",
    "        \"\"\"Add element e to the top of the stack.\"\"\"\n",
    "        self.data.append(e)\n",
    "\n",
    "    def top(self):\n",
    "        \"\"\"Return (but do not remove) the element at the top of the stack.\n",
    "\n",
    "        Raise Empty exception if the stack is empty.\n",
    "        \"\"\"\n",
    "        if self.is_empty():\n",
    "            Exception(\"Stack is empty\")\n",
    "        else:\n",
    "            return self.data[-1]\n",
    "        \n",
    "    def pop(self):\n",
    "        \"\"\"Remove and return the element from the top of the stack (i.e., LIFO).\n",
    "\n",
    "        Raise Empty exception if the stack is empty.\n",
    "        \"\"\"\n",
    "        if self.is_empty():\n",
    "            Exception(\"Stack is empty\")\n",
    "        return self.data.pop()\n",
    "    \n",
    "def evaluateInfix(infix):\n",
    "    operand_stack, operator_stack = ArrayStack(), ArrayStack()\n",
    "    operating_dict = {'+': lambda x,y: float(x) + float(y),\n",
    "                 '-': lambda x,y: float(x) - float(y),\n",
    "                 '*': lambda x,y: float(x) * float(y),\n",
    "                 '/': lambda x,y: float(x) / float(y),\n",
    "                 '^': lambda x,y: float(x) ** float(y),}\n",
    "    \n",
    "    for token in infix:\n",
    "        if token == ')':\n",
    "            while operator_stack.top() != '(':\n",
    "                operand2, operand1, operator = operand_stack.pop(), operand_stack.pop(), operator_stack.pop()\n",
    "                operating = operating_dict[operator]\n",
    "                operand_stack.push(operating(operand1, operand2))\n",
    "            operator_stack.pop()\n",
    "        elif token == '(':\n",
    "            operator_stack.push(token)\n",
    "        elif token in \"+-*/^\":\n",
    "            # nothing in operator stack and (token lower or equal than top of the stack)\n",
    "            while (not(operator_stack.is_empty()) and ((token in \"+-\" and operator_stack.top() in \"+-*/^\") or (token in \"*/\" and operator_stack.top() in \"*/^\"))):\n",
    "                operand2, operand1, operator = operand_stack.pop(), operand_stack.pop(), operator_stack.pop()\n",
    "                operating = operating_dict[operator]\n",
    "                operand_stack.push(operating(operand1, operand2))\n",
    "            operator_stack.push(token)\n",
    "        else:\n",
    "            operand_stack.push(token)\n",
    "            \n",
    "    \n",
    "    # operands and operators remaining\n",
    "    while not(operand_stack.is_empty()) and not(operator_stack.is_empty()):\n",
    "        operand2, operand1, operator = operand_stack.pop(), operand_stack.pop(), operator_stack.pop()\n",
    "        operating = operating_dict[operator]\n",
    "        operand_stack.push(operating(operand1, operand2))\n",
    "        \n",
    "    return operand_stack.pop()"
   ]
  },
  {
   "cell_type": "code",
   "execution_count": 22,
   "metadata": {},
   "outputs": [
    {
     "name": "stdout",
     "output_type": "stream",
     "text": [
      "4+5*6-3 = 31.0\n",
      "(4+5)*(6-3) = 27.0\n"
     ]
    }
   ],
   "source": [
    "exp = \"4+5*6-3\"\n",
    "print(exp,'=',evaluateInfix(exp))\n",
    "exp = \"(4+5)*(6-3)\"\n",
    "print(exp,'=',evaluateInfix(exp))"
   ]
  },
  {
   "cell_type": "markdown",
   "metadata": {},
   "source": [
    "4+5*6-3 = 31.0\n",
    "(4+5)*(6-3) = 27.0"
   ]
  },
  {
   "cell_type": "code",
   "execution_count": 23,
   "metadata": {},
   "outputs": [
    {
     "name": "stdout",
     "output_type": "stream",
     "text": [
      "(4*(5-(7+2))) = -16.0\n",
      "(((3+4)*2)/7) = 2.0\n"
     ]
    }
   ],
   "source": [
    "exp = \"(4*(5-(7+2)))\"\n",
    "print(exp,'=',evaluateInfix(exp))\n",
    "exp = \"(((3+4)*2)/7)\"\n",
    "print(exp,'=',evaluateInfix(exp))"
   ]
  },
  {
   "cell_type": "markdown",
   "metadata": {},
   "source": [
    "(4*(5-(7+2))) = -16.0\n",
    "(((3+4)*2)/7) = 2.0"
   ]
  }
 ],
 "metadata": {
  "kernelspec": {
   "display_name": "Python 3",
   "language": "python",
   "name": "python3"
  },
  "language_info": {
   "codemirror_mode": {
    "name": "ipython",
    "version": 3
   },
   "file_extension": ".py",
   "mimetype": "text/x-python",
   "name": "python",
   "nbconvert_exporter": "python",
   "pygments_lexer": "ipython3",
   "version": "3.12.1"
  }
 },
 "nbformat": 4,
 "nbformat_minor": 2
}
