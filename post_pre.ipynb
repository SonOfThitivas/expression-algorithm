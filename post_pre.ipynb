{
 "cells": [
  {
   "cell_type": "code",
   "execution_count": 3,
   "metadata": {},
   "outputs": [],
   "source": [
    "class Empty(Exception):\n",
    "    \"\"\"Error attempting to access an element from an empty container.\"\"\"\n",
    "    pass\n",
    "\n",
    "class ArrayStack:\n",
    "    \"\"\"LIFO Stack implementation using a Python list as underlying storage.\"\"\"\n",
    "\n",
    "    def __init__(self):\n",
    "        \"\"\"Create an empty stack.\"\"\"\n",
    "        self.data = []\n",
    "\n",
    "    def __len__(self):\n",
    "        \"\"\"Return the number of elements in the stack.\"\"\"\n",
    "        return len(self.data)\n",
    "\n",
    "    def is_empty(self):\n",
    "        \"\"\"Return True if the stack is empty.\"\"\"\n",
    "        return len(self.data) == 0\n",
    "\n",
    "    def push(self, e):\n",
    "        \"\"\"Add element e to the top of the stack.\"\"\"\n",
    "        self.data.append(e)\n",
    "\n",
    "    def top(self):\n",
    "        \"\"\"Return (but do not remove) the element at the top of the stack.\n",
    "\n",
    "        Raise Empty exception if the stack is empty.\n",
    "        \"\"\"\n",
    "        if self.is_empty():\n",
    "            Exception(\"Stack is empty\")\n",
    "        else:\n",
    "            return self.data[-1]\n",
    "        \n",
    "    def pop(self):\n",
    "        \"\"\"Remove and return the element from the top of the stack (i.e., LIFO).\n",
    "\n",
    "        Raise Empty exception if the stack is empty.\n",
    "        \"\"\"\n",
    "        if self.is_empty():\n",
    "            Exception(\"Stack is empty\")\n",
    "        return self.data.pop()\n",
    "\n",
    "def PostfixtoPrefix(postfix):\n",
    "    S = ArrayStack()\n",
    "    \n",
    "    for token in postfix:\n",
    "        if token not in \"+-*/^\": # operand\n",
    "            S.push(token)\n",
    "        else: # operator\n",
    "            operator = token\n",
    "            operand2, operand1 = S.pop(), S.pop()\n",
    "            S.push(operator + operand1 + operand2)\n",
    "    \n",
    "    return \"\".join(S.data)"
   ]
  },
  {
   "cell_type": "code",
   "execution_count": 4,
   "metadata": {},
   "outputs": [
    {
     "name": "stdout",
     "output_type": "stream",
     "text": [
      "Postfix: AB+\n",
      "Prefix:  +AB\n",
      "Postfix: ABC*+\n",
      "Prefix:  +A*BC\n",
      "Postfix: AB+C*\n",
      "Prefix:  *+ABC\n"
     ]
    }
   ],
   "source": [
    "exp = \"AB+\"\n",
    "print('Postfix:',exp)\n",
    "print('Prefix: ',PostfixtoPrefix(exp))\n",
    "exp = \"ABC*+\"\n",
    "print('Postfix:',exp)\n",
    "print('Prefix: ',PostfixtoPrefix(exp))\n",
    "exp = \"AB+C*\"\n",
    "print('Postfix:',exp)\n",
    "print('Prefix: ',PostfixtoPrefix(exp))"
   ]
  },
  {
   "cell_type": "markdown",
   "metadata": {},
   "source": [
    "Postfix: AB+\n",
    "Prefix:  +AB\n",
    "Postfix: ABC*+\n",
    "Prefix:  +A*BC\n",
    "Postfix: AB+C*\n",
    "Prefix:  *+ABC"
   ]
  },
  {
   "cell_type": "code",
   "execution_count": 5,
   "metadata": {},
   "outputs": [
    {
     "name": "stdout",
     "output_type": "stream",
     "text": [
      "Postfix: ABC*+D+\n",
      "Prefix:  ++A*BCD\n",
      "Postfix: AB+CD+*\n",
      "Prefix:  *+AB+CD\n"
     ]
    }
   ],
   "source": [
    "exp = \"ABC*+D+\"\n",
    "print('Postfix:',exp)\n",
    "print('Prefix: ',PostfixtoPrefix(exp))\n",
    "exp = \"AB+CD+*\"\n",
    "print('Postfix:',exp)\n",
    "print('Prefix: ',PostfixtoPrefix(exp))"
   ]
  },
  {
   "cell_type": "markdown",
   "metadata": {},
   "source": [
    "Postfix: ABC*+D+\n",
    "Prefix:  ++A*BCD\n",
    "Postfix: AB+CD+*\n",
    "Prefix:  *+AB+CD"
   ]
  },
  {
   "cell_type": "code",
   "execution_count": 6,
   "metadata": {},
   "outputs": [
    {
     "name": "stdout",
     "output_type": "stream",
     "text": [
      "Postfix: 4572+-*\n",
      "Prefix:  *4-5+72\n",
      "Postfix: 34+2*7/\n",
      "Prefix:  /*+3427\n"
     ]
    }
   ],
   "source": [
    "exp = \"4572+-*\"\n",
    "print('Postfix:',exp)\n",
    "print('Prefix: ',PostfixtoPrefix(exp))\n",
    "exp = \"34+2*7/\"\n",
    "print('Postfix:',exp)\n",
    "print('Prefix: ',PostfixtoPrefix(exp))"
   ]
  },
  {
   "cell_type": "markdown",
   "metadata": {},
   "source": [
    "Postfix: 4572+-*\n",
    "Prefix:  *4-5+72\n",
    "Postfix: 34+2*7/\n",
    "Prefix:  /*+3427"
   ]
  }
 ],
 "metadata": {
  "kernelspec": {
   "display_name": "Python 3",
   "language": "python",
   "name": "python3"
  },
  "language_info": {
   "codemirror_mode": {
    "name": "ipython",
    "version": 3
   },
   "file_extension": ".py",
   "mimetype": "text/x-python",
   "name": "python",
   "nbconvert_exporter": "python",
   "pygments_lexer": "ipython3",
   "version": "3.12.1"
  }
 },
 "nbformat": 4,
 "nbformat_minor": 2
}
