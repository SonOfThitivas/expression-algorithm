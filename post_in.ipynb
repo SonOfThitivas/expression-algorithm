{
 "cells": [
  {
   "cell_type": "code",
   "execution_count": 32,
   "metadata": {},
   "outputs": [],
   "source": [
    "class Empty(Exception):\n",
    "    \"\"\"Error attempting to access an element from an empty container.\"\"\"\n",
    "    pass\n",
    "\n",
    "class ArrayStack:\n",
    "    \"\"\"LIFO Stack implementation using a Python list as underlying storage.\"\"\"\n",
    "\n",
    "    def __init__(self):\n",
    "        \"\"\"Create an empty stack.\"\"\"\n",
    "        self.data = []\n",
    "\n",
    "    def __len__(self):\n",
    "        \"\"\"Return the number of elements in the stack.\"\"\"\n",
    "        return len(self.data)\n",
    "\n",
    "    def is_empty(self):\n",
    "        \"\"\"Return True if the stack is empty.\"\"\"\n",
    "        return len(self.data) == 0\n",
    "\n",
    "    def push(self, e):\n",
    "        \"\"\"Add element e to the top of the stack.\"\"\"\n",
    "        self.data.append(e)\n",
    "\n",
    "    def top(self):\n",
    "        \"\"\"Return (but do not remove) the element at the top of the stack.\n",
    "\n",
    "        Raise Empty exception if the stack is empty.\n",
    "        \"\"\"\n",
    "        if self.is_empty():\n",
    "            Exception(\"Stack is empty\")\n",
    "        else:\n",
    "            return self.data[-1]\n",
    "        \n",
    "    def pop(self):\n",
    "        \"\"\"Remove and return the element from the top of the stack (i.e., LIFO).\n",
    "\n",
    "        Raise Empty exception if the stack is empty.\n",
    "        \"\"\"\n",
    "        if self.is_empty():\n",
    "            Exception(\"Stack is empty\")\n",
    "        return self.data.pop()\n",
    "    \n",
    "def PostfixtoInfix(postfix):\n",
    "    operand_stack = ArrayStack()\n",
    "      \n",
    "    for token in postfix:\n",
    "        if token in \"+-*/^\":\n",
    "            operand2, operand1, operator = operand_stack.pop(), operand_stack.pop(), token\n",
    "            operand_stack.push('('+operand1+operator+operand2+')')\n",
    "        else:\n",
    "            operand_stack.push(token)\n",
    "    \n",
    "    return operand_stack.pop()"
   ]
  },
  {
   "cell_type": "code",
   "execution_count": 33,
   "metadata": {},
   "outputs": [
    {
     "name": "stdout",
     "output_type": "stream",
     "text": [
      "Postfix: AB+\n",
      "Infix:   (A+B)\n",
      "Postfix: ABC*+\n",
      "Infix:   (A+(B*C))\n",
      "Postfix: AB+C*\n",
      "Infix:   ((A+B)*C)\n"
     ]
    }
   ],
   "source": [
    "exp = \"AB+\"\n",
    "print('Postfix:',exp)\n",
    "print('Infix:  ',PostfixtoInfix(exp))\n",
    "exp = \"ABC*+\"\n",
    "print('Postfix:',exp)\n",
    "print('Infix:  ',PostfixtoInfix(exp))\n",
    "exp = \"AB+C*\"\n",
    "print('Postfix:',exp)\n",
    "print('Infix:  ',PostfixtoInfix(exp))"
   ]
  },
  {
   "cell_type": "markdown",
   "metadata": {},
   "source": [
    "Postfix: AB+\n",
    "Infix:   (A+B)\n",
    "Postfix: ABC*+\n",
    "Infix:   (A+(B*C))\n",
    "Postfix: AB+C*\n",
    "Infix:   ((A+B)*C)"
   ]
  },
  {
   "cell_type": "code",
   "execution_count": 34,
   "metadata": {},
   "outputs": [
    {
     "name": "stdout",
     "output_type": "stream",
     "text": [
      "Postfix: ABC*+D+\n",
      "Infix:   ((A+(B*C))+D)\n",
      "Postfix: AB+CD+*\n",
      "Infix:   ((A+B)*(C+D))\n"
     ]
    }
   ],
   "source": [
    "exp = \"ABC*+D+\"\n",
    "print('Postfix:',exp)\n",
    "print('Infix:  ',PostfixtoInfix(exp))\n",
    "exp = \"AB+CD+*\"\n",
    "print('Postfix:',exp)\n",
    "print('Infix:  ',PostfixtoInfix(exp))"
   ]
  },
  {
   "cell_type": "markdown",
   "metadata": {},
   "source": [
    "Postfix: ABC*+D+\n",
    "Infix:   ((A+(B*C))+D)\n",
    "Postfix: AB+CD+*\n",
    "Infix:   ((A+B)*(C+D))"
   ]
  },
  {
   "cell_type": "code",
   "execution_count": 35,
   "metadata": {},
   "outputs": [
    {
     "name": "stdout",
     "output_type": "stream",
     "text": [
      "Postfix: 4572+-*\n",
      "Infix:   (4*(5-(7+2)))\n",
      "Postfix: 34+2*7/\n",
      "Infix:   (((3+4)*2)/7)\n"
     ]
    }
   ],
   "source": [
    "exp = \"4572+-*\"\n",
    "print('Postfix:',exp)\n",
    "print('Infix:  ',PostfixtoInfix(exp))\n",
    "exp = \"34+2*7/\"\n",
    "print('Postfix:',exp)\n",
    "print('Infix:  ',PostfixtoInfix(exp))"
   ]
  },
  {
   "cell_type": "markdown",
   "metadata": {},
   "source": [
    "Postfix: 4572+-*\n",
    "Infix:   (4*(5-(7+2)))\n",
    "Postfix: 34+2*7/\n",
    "Infix:   (((3+4)*2)/7)"
   ]
  }
 ],
 "metadata": {
  "kernelspec": {
   "display_name": "Python 3",
   "language": "python",
   "name": "python3"
  },
  "language_info": {
   "codemirror_mode": {
    "name": "ipython",
    "version": 3
   },
   "file_extension": ".py",
   "mimetype": "text/x-python",
   "name": "python",
   "nbconvert_exporter": "python",
   "pygments_lexer": "ipython3",
   "version": "3.12.1"
  }
 },
 "nbformat": 4,
 "nbformat_minor": 2
}
